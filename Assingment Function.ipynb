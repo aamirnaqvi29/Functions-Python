{
 "cells": [
  {
   "cell_type": "markdown",
   "id": "33c7766b-eda7-42b9-9d9c-03e662372a2e",
   "metadata": {},
   "source": [
    "## Question 1"
   ]
  },
  {
   "cell_type": "code",
   "execution_count": 90,
   "id": "3b81586f-6494-493d-82fd-1d5dbedc9149",
   "metadata": {},
   "outputs": [],
   "source": [
    "l1 = [1,2,3,4,5,6,7,8,9,10,11,12,13,14,15,16,17,18,19,20,21,22,23,24,25]"
   ]
  },
  {
   "cell_type": "code",
   "execution_count": 98,
   "id": "9fb85894-3f6e-4217-8a76-4e120a9500d5",
   "metadata": {},
   "outputs": [],
   "source": [
    "## def keyword is use to create the function\n",
    "\n",
    "def test1(a):\n",
    "    n=[]\n",
    "    for i in a:\n",
    "        if  i%2 !=0:\n",
    "            n.append(i)\n",
    "        return n"
   ]
  },
  {
   "cell_type": "markdown",
   "id": "35d5a000-47cd-4fe7-b08e-b46dc78c5935",
   "metadata": {},
   "source": [
    "## Question 2"
   ]
  },
  {
   "cell_type": "code",
   "execution_count": null,
   "id": "ecefdc26-af45-42a7-9e24-a7beb0d403e3",
   "metadata": {},
   "outputs": [],
   "source": [
    "## *args allows us to pass a variable number of non-keyword arguments to a Python function.\n",
    "## **kwargs "
   ]
  },
  {
   "cell_type": "code",
   "execution_count": 101,
   "id": "c3c4c91f-30e8-4c5e-8e83-53c88860f1a6",
   "metadata": {},
   "outputs": [],
   "source": [
    "def test2(*args):\n",
    "    return args\n"
   ]
  },
  {
   "cell_type": "code",
   "execution_count": 102,
   "id": "4a2180be-2d8a-405f-a393-ffe244db18bb",
   "metadata": {},
   "outputs": [
    {
     "data": {
      "text/plain": [
       "(1, 2, 3, 4, 5, 6)"
      ]
     },
     "execution_count": 102,
     "metadata": {},
     "output_type": "execute_result"
    }
   ],
   "source": [
    "test2(1,2,3,4,5,6)"
   ]
  },
  {
   "cell_type": "code",
   "execution_count": 103,
   "id": "d8f75e7e-c8b7-4b27-befd-386ba5303daa",
   "metadata": {},
   "outputs": [],
   "source": [
    "def test3(**kwargs):\n",
    "    return kwargs\n"
   ]
  },
  {
   "cell_type": "code",
   "execution_count": 107,
   "id": "90e4aff9-471b-4ebd-b395-7c7dbb247d7b",
   "metadata": {},
   "outputs": [
    {
     "data": {
      "text/plain": [
       "{'a': 'aamir naqvi', 'b': 'pwskills', 'c': [1, 2, 3, 4, 5]}"
      ]
     },
     "execution_count": 107,
     "metadata": {},
     "output_type": "execute_result"
    }
   ],
   "source": [
    "test3(a=\"aamir naqvi\",b=\"pwskills\",c=[1,2,3,4,5])"
   ]
  },
  {
   "cell_type": "markdown",
   "id": "35d33cb7-ef10-485f-8749-08fac3b072bf",
   "metadata": {
    "tags": []
   },
   "source": [
    "## Question 4"
   ]
  },
  {
   "cell_type": "code",
   "execution_count": 108,
   "id": "22a37507-3a4e-4182-955b-af9f9ecae2ec",
   "metadata": {},
   "outputs": [],
   "source": [
    "##  generator function allows you to declare a function that behaves like an iterator, providing a faster and easier way to create iterators."
   ]
  },
  {
   "cell_type": "code",
   "execution_count": null,
   "id": "269323c0-7fa4-4daa-b4c2-f79795437584",
   "metadata": {},
   "outputs": [],
   "source": [
    "## yield keyword is used to create a generator function. A type of function that is memory efficient and can be used like an iterator object"
   ]
  },
  {
   "cell_type": "code",
   "execution_count": 109,
   "id": "2ee3b054-4d72-4e2a-bac5-ce723f4f25d0",
   "metadata": {},
   "outputs": [
    {
     "data": {
      "text/plain": [
       "range(1, 25)"
      ]
     },
     "execution_count": 109,
     "metadata": {},
     "output_type": "execute_result"
    }
   ],
   "source": [
    "range(1,25)"
   ]
  },
  {
   "cell_type": "code",
   "execution_count": 111,
   "id": "f0c41bfe-61e4-42fe-bd25-63b3f13cb387",
   "metadata": {},
   "outputs": [
    {
     "name": "stdout",
     "output_type": "stream",
     "text": [
      "1\n",
      "2\n",
      "3\n",
      "4\n",
      "5\n",
      "6\n",
      "7\n",
      "8\n",
      "9\n",
      "10\n",
      "11\n",
      "12\n",
      "13\n",
      "14\n",
      "15\n",
      "16\n",
      "17\n",
      "18\n",
      "19\n",
      "20\n",
      "21\n",
      "22\n",
      "23\n",
      "24\n"
     ]
    }
   ],
   "source": [
    "for i in range(1,25):\n",
    "    print(i)"
   ]
  },
  {
   "cell_type": "markdown",
   "id": "2e60506f-e939-499f-8691-cbc572363ce4",
   "metadata": {},
   "source": [
    "## Question 5"
   ]
  },
  {
   "cell_type": "code",
   "execution_count": 6,
   "id": "1624c3ea-8b72-46ed-bcf1-cf8c143961e6",
   "metadata": {},
   "outputs": [],
   "source": [
    "l1=[ i for i in range(1,1000)]"
   ]
  },
  {
   "cell_type": "code",
   "execution_count": null,
   "id": "40a9e7ca-6ebd-454b-89d0-77bafe097df7",
   "metadata": {},
   "outputs": [],
   "source": [
    "l=[]\n",
    "for i in range(1,10):\n",
    "    for j in range(2,i):\n",
    "        if i%j==0:\n",
    "            break\n",
    "        else:\n",
    "            l.append(i)\n",
    "            print(l)\n",
    "                \n",
    "  "
   ]
  },
  {
   "cell_type": "code",
   "execution_count": null,
   "id": "fa1d4243-3828-4877-a664-7b0342774d8f",
   "metadata": {},
   "outputs": [],
   "source": []
  }
 ],
 "metadata": {
  "kernelspec": {
   "display_name": "Python 3 (ipykernel)",
   "language": "python",
   "name": "python3"
  },
  "language_info": {
   "codemirror_mode": {
    "name": "ipython",
    "version": 3
   },
   "file_extension": ".py",
   "mimetype": "text/x-python",
   "name": "python",
   "nbconvert_exporter": "python",
   "pygments_lexer": "ipython3",
   "version": "3.10.8"
  }
 },
 "nbformat": 4,
 "nbformat_minor": 5
}
